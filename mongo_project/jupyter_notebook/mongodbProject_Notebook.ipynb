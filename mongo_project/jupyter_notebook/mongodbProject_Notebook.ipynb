{
 "cells": [
  {
   "cell_type": "markdown",
   "metadata": {},
   "source": [
    "# mongoDB Project: Relational databases & Document-Oriented databases ¶\n",
    "\n",
    "### Assignment Description\n",
    "\n",
    "This assignment is a part of a project implemented in the context of the course \"Big Data Management Systems\" taught by Prof. Chatziantoniou in the Department of Management Science and Technology (AUEB). The aim of the project is to familiarize the students with big data management systems such as Hadoop, Redis, MongoDB and Neo4j.\n",
    "\n",
    "In the context of this assignment on Mongo, queries will be designed and executed on a mongo collection, simple operations on mongo will be executed with python while mapreduce jobs will also be designed and executed on a mongo collection."
   ]
  },
  {
   "cell_type": "markdown",
   "metadata": {},
   "source": [
    "### Part One\t(Queries\tand\tthe\tAggregation Pipeline)"
   ]
  },
  {
   "cell_type": "markdown",
   "metadata": {},
   "source": [
    "#### Query 1"
   ]
  },
  {
   "cell_type": "markdown",
   "metadata": {},
   "source": [
    "How\tmany\tstudents\tin\tyour\tdatabase\tare\tcurrently\ttaking\tat\tleast\t1\tclass\t(i.e.\thave\ta\tclass\twith\ta\tcourse_status of\t“In\tProgress”)?"
   ]
  },
  {
   "cell_type": "code",
   "execution_count": null,
   "metadata": {
    "collapsed": false
   },
   "outputs": [],
   "source": [
    "db.students.find({'courses.course_status': 'In Progress'}).count()"
   ]
  },
  {
   "cell_type": "markdown",
   "metadata": {},
   "source": [
    "##### Result:"
   ]
  },
  {
   "cell_type": "markdown",
   "metadata": {},
   "source": [
    "<img src=\"screenshots/q1.png\", width=\"500\" height=\"400\" alt=\"Q1\">"
   ]
  },
  {
   "cell_type": "markdown",
   "metadata": {},
   "source": [
    "#### Query 2"
   ]
  },
  {
   "cell_type": "markdown",
   "metadata": {},
   "source": [
    "Produce\ta\tgrouping\tof\tthe\tdocuments\tthat\tcontains\tthe\tname\tof\teach\thome\tcity\tand\tthe\tnumber\tof\tstudents\tenrolled\tfrom\tthat\thome\tcity."
   ]
  },
  {
   "cell_type": "code",
   "execution_count": null,
   "metadata": {
    "collapsed": true
   },
   "outputs": [],
   "source": [
    "db.students.aggregate(\n",
    "    [\n",
    "        {\n",
    "            $group: {\n",
    "                _id: $home_city,\n",
    "                enrolledStudents: {\n",
    "                    $sum: 1\n",
    "                }\n",
    "            }\n",
    "        }\n",
    "    ]\n",
    ")"
   ]
  },
  {
   "cell_type": "markdown",
   "metadata": {},
   "source": [
    "##### Result:"
   ]
  },
  {
   "cell_type": "markdown",
   "metadata": {},
   "source": [
    "<img src=\"screenshots/q2.png\", width=\"400\", height=\"400\", alt=\"Q1\">"
   ]
  },
  {
   "cell_type": "markdown",
   "metadata": {},
   "source": [
    "#### Query 3"
   ]
  },
  {
   "cell_type": "markdown",
   "metadata": {},
   "source": [
    "Which hobby or hobbies are the most popular?"
   ]
  },
  {
   "cell_type": "code",
   "execution_count": null,
   "metadata": {
    "collapsed": true
   },
   "outputs": [],
   "source": [
    "db.students.aggregate(\n",
    "    [\n",
    "        {\n",
    "            $unwind: \"$hobbies\"\n",
    "        },\n",
    "\n",
    "        {\n",
    "            \"$group\": {\n",
    "                _id: \"$hobbies\",\n",
    "                popularity: {\n",
    "                    $sum: 1\n",
    "                }\n",
    "            }\n",
    "        },\n",
    "\n",
    "        {\n",
    "            $sort: {\n",
    "                popularity: -1\n",
    "            }\n",
    "        },\n",
    "\n",
    "        {\n",
    "            $limit: 1\n",
    "        }\n",
    "    ]\n",
    ")"
   ]
  },
  {
   "cell_type": "markdown",
   "metadata": {},
   "source": [
    "##### Result:"
   ]
  },
  {
   "cell_type": "markdown",
   "metadata": {},
   "source": [
    "<img src=\"screenshots/q3_1.png\", width=\"400\", height=\"400\", alt=\"Q1\">"
   ]
  },
  {
   "cell_type": "code",
   "execution_count": null,
   "metadata": {
    "collapsed": true
   },
   "outputs": [],
   "source": [
    "db.students.aggregate(\n",
    "    [\n",
    "        {\n",
    "            $unwind: \"$hobbies\"\n",
    "        },\n",
    "\n",
    "        {\n",
    "            \"$group\": {\n",
    "                _id: \"$hobbies\",\n",
    "                popularity: {\n",
    "                    $sum: 1\n",
    "                }\n",
    "            }\n",
    "        },\n",
    "\n",
    "        {\n",
    "            $sort: {\n",
    "                popularity: -1\n",
    "            }\n",
    "        },\n",
    "\n",
    "        {\n",
    "            $limit: 5\n",
    "        }\n",
    "    ]\n",
    ")"
   ]
  },
  {
   "cell_type": "markdown",
   "metadata": {},
   "source": [
    "##### Result:"
   ]
  },
  {
   "cell_type": "markdown",
   "metadata": {},
   "source": [
    "<img src=\"screenshots/q3_2.png\", width=\"400\", height=\"400\", alt=\"Q1\">"
   ]
  },
  {
   "cell_type": "markdown",
   "metadata": {},
   "source": [
    "#### Query 4"
   ]
  },
  {
   "cell_type": "markdown",
   "metadata": {},
   "source": [
    "What\tis\tthe\tGPA\t(ignoring dropped\tclasses\tand\tin\tprogress\tclasses)\tof\tthe\tbest\tstudent?"
   ]
  },
  {
   "cell_type": "code",
   "execution_count": null,
   "metadata": {
    "collapsed": true
   },
   "outputs": [],
   "source": [
    "db.students.aggregate(\n",
    "    [\n",
    "        { \n",
    "            $match: {'courses.course_status': { $nin: [ 'In Progress', 'Dropped' ] }}\n",
    "        },\n",
    "        {\n",
    "            $unwind: \"$courses\" \n",
    "        },\n",
    "        {\n",
    "            $group: {\n",
    "               _id: \"$_id\",\n",
    "\n",
    "               GPA: {  $avg: '$courses.grade' }\n",
    "            }\n",
    "        },\n",
    "         \n",
    "        {$sort: {GPA: -1}},\n",
    "\n",
    "        {$limit: 1}\n",
    "     \n",
    "   ]\n",
    ")"
   ]
  },
  {
   "cell_type": "markdown",
   "metadata": {},
   "source": [
    "##### Result:"
   ]
  },
  {
   "cell_type": "markdown",
   "metadata": {},
   "source": [
    "<img src=\"screenshots/q4.png\", width=\"400\", height=\"400\", alt=\"Q1\">"
   ]
  },
  {
   "cell_type": "markdown",
   "metadata": {},
   "source": [
    "#### Query 5"
   ]
  },
  {
   "cell_type": "markdown",
   "metadata": {},
   "source": [
    "Which\tstudent\thas\tthe\tlargest\tnumber\tof\tgrade\t10’s?"
   ]
  },
  {
   "cell_type": "code",
   "execution_count": null,
   "metadata": {
    "collapsed": true
   },
   "outputs": [],
   "source": [
    "db.students.aggregate(\n",
    "    [\n",
    "\n",
    "        {\n",
    "            $unwind: \"$courses\"\n",
    "        },\n",
    "        {\n",
    "            $group: {\n",
    "                _id: \"$_id\",\n",
    "                countMaxGrade: {\n",
    "                    $sum: {\n",
    "                        $cond: [{\n",
    "                            $eq: ['$courses.grade', 10]\n",
    "                        }, 1, 0]\n",
    "                    }\n",
    "                }\n",
    "            }\n",
    "        },\n",
    "\n",
    "        {\n",
    "            $sort: {\n",
    "                countMaxGrade: -1\n",
    "            }\n",
    "        },\n",
    "\n",
    "        {\n",
    "            $limit: 1\n",
    "        }\n",
    "\n",
    "    ]\n",
    ")"
   ]
  },
  {
   "cell_type": "markdown",
   "metadata": {},
   "source": [
    "##### Result:\n"
   ]
  },
  {
   "cell_type": "markdown",
   "metadata": {},
   "source": [
    "<img src=\"screenshots/q5.png\", width=\"400\", height=\"400\", alt=\"Query 5\">"
   ]
  },
  {
   "cell_type": "markdown",
   "metadata": {},
   "source": [
    "#### Query 6"
   ]
  },
  {
   "cell_type": "markdown",
   "metadata": {},
   "source": [
    "Which\tclass\thas\tthe\thighest\taverage\tGPA?\t"
   ]
  },
  {
   "cell_type": "code",
   "execution_count": null,
   "metadata": {
    "collapsed": true
   },
   "outputs": [],
   "source": [
    "db.students.aggregate(\n",
    "    [\n",
    "\n",
    "        {\n",
    "            $unwind: \"$courses\"\n",
    "        },\n",
    "        {\n",
    "            $group: {\n",
    "                _id: \"$courses.course_code\",\n",
    "\n",
    "                \"course_title\": {\n",
    "                    \"$first\": \"$courses.course_title\"\n",
    "                },\n",
    "\n",
    "                average_grade: {\n",
    "                    $avg: '$courses.grade'\n",
    "                }\n",
    "\n",
    "            }\n",
    "        },\n",
    "        {\n",
    "            $sort: {\n",
    "                average_grade: -1\n",
    "            }\n",
    "        },\n",
    "\n",
    "        {\n",
    "            $limit: 1\n",
    "        }\n",
    "\n",
    "    ]\n",
    ")"
   ]
  },
  {
   "cell_type": "markdown",
   "metadata": {},
   "source": [
    "##### Result:"
   ]
  },
  {
   "cell_type": "markdown",
   "metadata": {},
   "source": [
    "<img src=\"screenshots/q6.png\", width=\"500\", height=\"500\", alt=\"Query 6\">"
   ]
  },
  {
   "cell_type": "markdown",
   "metadata": {},
   "source": [
    "#### Query 7"
   ]
  },
  {
   "cell_type": "markdown",
   "metadata": {},
   "source": [
    "Which\tclass\thas\tbeen\tdropped\tthe\tmost\tnumber\tof\ttimes?"
   ]
  },
  {
   "cell_type": "code",
   "execution_count": null,
   "metadata": {
    "collapsed": true
   },
   "outputs": [],
   "source": [
    "db.students.aggregate(\n",
    "    [\n",
    "        {\n",
    "            $unwind: \"$courses\"\n",
    "        },\n",
    "        {\n",
    "            $group: {\n",
    "                _id: \"$courses.course_code\",\n",
    "                \"course_name\": {\n",
    "                    \"$first\": \"$courses.course_title\"\n",
    "                },\n",
    "                dropped_count: {\n",
    "                    $sum: {\n",
    "                        $cond: [{\n",
    "                            $eq: ['$courses.course_status', 'Dropped']\n",
    "                        }, 1, 0]\n",
    "                    }\n",
    "                }\n",
    "            }\n",
    "        },\n",
    "\n",
    "        {\n",
    "            $sort: {\n",
    "                dropped_count: -1\n",
    "            }\n",
    "        },\n",
    "\n",
    "        {\n",
    "            $limit: 1\n",
    "        }\n",
    "\n",
    "    ]\n",
    ")"
   ]
  },
  {
   "cell_type": "markdown",
   "metadata": {},
   "source": [
    "##### Result:"
   ]
  },
  {
   "cell_type": "markdown",
   "metadata": {},
   "source": [
    "<img src=\"screenshots/q7.png\", width=\"400\", height=\"400\", alt=\"Query 7\">"
   ]
  },
  {
   "cell_type": "markdown",
   "metadata": {},
   "source": [
    "#### Query 8"
   ]
  },
  {
   "cell_type": "markdown",
   "metadata": {},
   "source": [
    "Produce\tof\ta\tcount\tof\tclasses\tthat\thave\tbeen COMPLETED\tby\tclass\ttype.\tThe\tclass\ttype\tis\tfound\tby\ttaking\tthe\tfirst\tletter\tof\tthe\tcourse\tcode\tso\tthat\tM102\thas\ttype\tM."
   ]
  },
  {
   "cell_type": "code",
   "execution_count": null,
   "metadata": {
    "collapsed": true
   },
   "outputs": [],
   "source": [
    "db.students.aggregate(\n",
    "   [\n",
    "\n",
    "     {\n",
    "         $unwind: \"$courses\" \n",
    "     },\n",
    "     {\n",
    "         $group:\n",
    "         {\n",
    "           _id: { $substr: [ \"$courses.course_code\", 0, 1 ] },         \n",
    "           complete_count: {\n",
    "               $sum: {\n",
    "                   $cond: [ { $eq: [ '$courses.course_status', 'Complete' ] }, 1, 0 ]\n",
    "                } \n",
    "            }\n",
    "         }\n",
    "     },\n",
    "     \n",
    "     {$sort: {complete_count: -1}}\n",
    "     \n",
    "   ]\n",
    ")"
   ]
  },
  {
   "cell_type": "markdown",
   "metadata": {},
   "source": [
    "##### Result:"
   ]
  },
  {
   "cell_type": "markdown",
   "metadata": {},
   "source": [
    "<img src=\"screenshots/q8.png\", width=\"400\", height=\"400\", alt=\"Query 8\">"
   ]
  },
  {
   "cell_type": "markdown",
   "metadata": {},
   "source": [
    "#### Query 9"
   ]
  },
  {
   "cell_type": "markdown",
   "metadata": {},
   "source": [
    "Produce\ta\ttransformation\tof\tthe\tdocuments\tso\tthat\tthe\tdocuments\tnow\thave\tan\tadditional\tboolean\tfield\tcalled\t“hobbyist”\tthat\tis\ttrue\twhen\tthe\tstudent\thas\tmore\tthan\t3 hobbies\tand\tfalse\totherwise."
   ]
  },
  {
   "cell_type": "code",
   "execution_count": null,
   "metadata": {
    "collapsed": true
   },
   "outputs": [],
   "source": [
    "db.students.aggregate(\n",
    "    [{\n",
    "        $project: {\n",
    "            home_city: 1,\n",
    "            first_name: 1,\n",
    "            hobbies: 1,\n",
    "            hobbyist: {\n",
    "                $cond: {\n",
    "                    if: {\n",
    "                        $gt: [{\n",
    "                            $size: \"$hobbies\"\n",
    "                        }, 3]\n",
    "                    },\n",
    "                    then: true,\n",
    "                    else: false\n",
    "                }\n",
    "            },\n",
    "            favourite_os: 1,\n",
    "            laptop_cost: 1,\n",
    "            courses: 1\n",
    "        }\n",
    "    }]\n",
    ")"
   ]
  },
  {
   "cell_type": "markdown",
   "metadata": {},
   "source": [
    "##### Result:"
   ]
  },
  {
   "cell_type": "markdown",
   "metadata": {},
   "source": [
    "<img src=\"screenshots/q9_1.png\", width=\"800\", height=\"800\", alt=\"Query 9\">"
   ]
  },
  {
   "cell_type": "markdown",
   "metadata": {},
   "source": [
    "<img src=\"screenshots/q9_2.png\", width=\"800\", height=\"800\", alt=\"Query 9\">"
   ]
  },
  {
   "cell_type": "markdown",
   "metadata": {},
   "source": [
    "#### Query 10"
   ]
  },
  {
   "cell_type": "markdown",
   "metadata": {},
   "source": [
    "Produce\ta\ttransformation\tof\tthe\tdocuments\tso\tthat\tthe\tdocuments\tnow\thave\tan\tadditional\tfield\tthat\tcontains the\tnumber\tof\tclasses\tthat the\tstudent\thas completed."
   ]
  },
  {
   "cell_type": "code",
   "execution_count": null,
   "metadata": {
    "collapsed": true
   },
   "outputs": [],
   "source": [
    "db.students.aggregate(\n",
    "    [\n",
    "        {\n",
    "            $unwind: \"$courses\"\n",
    "        },\n",
    "        {\n",
    "            $group: {\n",
    "                _id: \"$_id\",\n",
    "                \"home_city\": {\n",
    "                    \"$first\": \"$home_city\"\n",
    "                },\n",
    "                \"first_name\": {\n",
    "                    \"$first\": \"$first_name\"\n",
    "                },\n",
    "                \"hobbies\": {\n",
    "                    \"$first\": \"$hobbies\"\n",
    "                },\n",
    "                \"hobbyist\": {\n",
    "                    \"$first\": \"$hobbyist\"\n",
    "                },\n",
    "                \"favourite_os\": {\n",
    "                    \"$first\": \"$favourite_os\"\n",
    "                },\n",
    "                \"laptop_cost\": {\n",
    "                    \"$first\": \"$laptop_cost\"\n",
    "                },\n",
    "                \"courses\": {\n",
    "                    \"$push\": \"$courses\"\n",
    "                },\n",
    "                completed_count: {\n",
    "                    $sum: {\n",
    "                        $cond: [{\n",
    "                            $eq: ['$courses.course_status', 'Complete']\n",
    "                        }, 1, 0]\n",
    "                    }\n",
    "                }\n",
    "            }\n",
    "        },\n",
    "        {\n",
    "            $addFields: {\n",
    "                completed_courses: \"$completed_count\"\n",
    "            }\n",
    "        },\n",
    "        {\n",
    "            $project: {\n",
    "                completed_count: 0\n",
    "            }\n",
    "        }\n",
    "    ]\n",
    ")"
   ]
  },
  {
   "cell_type": "markdown",
   "metadata": {},
   "source": [
    "##### Result:"
   ]
  },
  {
   "cell_type": "markdown",
   "metadata": {},
   "source": [
    "<img src=\"screenshots/q10_1.png\", width=\"400\", height=\"400\", alt=\"Query 10\">"
   ]
  },
  {
   "cell_type": "markdown",
   "metadata": {},
   "source": [
    "<img src=\"screenshots/q10_2.png\", width=\"800\", height=\"400\", alt=\"Query 10\">"
   ]
  },
  {
   "cell_type": "markdown",
   "metadata": {},
   "source": [
    "#### Query 11"
   ]
  },
  {
   "cell_type": "markdown",
   "metadata": {},
   "source": [
    "Produce\ta\ttransformation\tof\tthe\tdocuments\tin\tthe\tcollection\tso\tthat\tthey\tlook\tlike\tthis:\n",
    "```json\n",
    "{\n",
    "\t\"_id\": \"ObjectId('558d08925e083d8cdd7be831')\",\n",
    "\t\"first_name\": \"Eirini\",\n",
    "\t\"GPA\": 8.5,\n",
    "\t\"classesInProgress\": 3,\n",
    "\t\"droppedClasses\": 0\n",
    "}\n",
    "```\n",
    "\n",
    "The\tGPA\tis\tthe\taverage\tgrade\tof\tall\tthe\tcompleted\tclasses.\tThe\tother\ttwo\tcomputed\tfields\tare\tthe\tnumber\tof\tclasses\tcurrently\tin\tprogress\tand\tthe\tnumber\tof\tclasses\tdropped. No\tother\tfields\tshould\tbe\tin\tthere. No\tother\tfields\tshould\tbe\tpresent."
   ]
  },
  {
   "cell_type": "code",
   "execution_count": null,
   "metadata": {
    "collapsed": true
   },
   "outputs": [],
   "source": [
    "db.students.aggregate(\n",
    "    [\n",
    "\n",
    "        {\n",
    "            $unwind: \"$courses\"\n",
    "        },\n",
    "        {\n",
    "            $group: {\n",
    "                _id: \"$_id\",\n",
    "                \"first_name\": {\n",
    "                    \"$first\": \"$first_name\"\n",
    "                },\n",
    "                GPA: {\n",
    "                    $avg: '$courses.grade'\n",
    "                },\n",
    "                classesInProgress: {\n",
    "                    $sum: {\n",
    "                        $cond: [{\n",
    "                            $eq: ['$courses.course_status', 'In Progress']\n",
    "                        }, 1, 0]\n",
    "                    }\n",
    "                },\n",
    "                droppedClasses: {\n",
    "                    $sum: {\n",
    "                        $cond: [{\n",
    "                            $eq: ['$courses.course_status', 'Dropped']\n",
    "                        }, 1, 0]\n",
    "                    }\n",
    "                }\n",
    "            }\n",
    "        }\n",
    "\n",
    "    ]\n",
    ")"
   ]
  },
  {
   "cell_type": "markdown",
   "metadata": {},
   "source": [
    "##### Result:"
   ]
  },
  {
   "cell_type": "markdown",
   "metadata": {},
   "source": [
    "<img src=\"screenshots/q11.png\", width=\"800\", height=\"400\", alt=\"Query 11\">"
   ]
  },
  {
   "cell_type": "markdown",
   "metadata": {},
   "source": [
    "#### Query 12"
   ]
  },
  {
   "cell_type": "markdown",
   "metadata": {},
   "source": [
    "Produce\ta\tNEW\tcollection\t(HINT:\tUse\t$out\tin\tthe\taggregation\tpipeline)\tso\tthat\tthe\tnew\tdocuments in\tthis\tcorrespond\tto\tthe\tclasses\ton\toffer.\tThe\tstructure\tof\tthe\tdocuments\tshould\tbe\tlike\tthis:\n",
    "\n",
    "```json\n",
    "{\n",
    "\t\"_id\": \"M102\",\n",
    "\n",
    "\t\"course_title\": \"Data Mining\",\n",
    "\n",
    "\t\"numberOfDropouts\": 34,\n",
    "\n",
    "\t\"numberOfTimesCompleted\": 34,\n",
    "\n",
    "\t\"currentlyRegistered\": [\"ObjectId('558d08925e083d8cdd7be831')\", \"…\"],\n",
    "\n",
    "\t\"maxGrade\": 10,\n",
    "\n",
    "\t\"minGrade\": 2,\n",
    "\n",
    "\t\"avgGrade\": 7.6\n",
    "}\n",
    "```\n",
    "\n",
    "The\t_id\tfield\tshould\tbe\tthe\tcourse\tcode.\tThe\tcourse_title\tis\twhat\tit\twas\tbefore.\tThe\tnumberOfDropouts is\tthe\tnumber\tof\tstudents\twho\tdropped\tout.\tThe\tnumberOfTimesCompleted\tis\tthe\tnumber\tof\tstudents\tthat\tcompleted\tthis\tclass.\tThe\tcurrentlyRegistered\tarray\tis\tan\tarray\tof\tObjectID’s\tcorresponding\tto\tthe\tstudents\twho\tare\tcurrently\ttaking\tthe\tclass.\tFinally,\tfor\tthe\tstudents\tthat\tcompleted\tthe\tclass,\tthe\tmaxGrade,\tminGrade\tand\tavgGrade\tare\tthe\tsummary\tstatistics\tfor\tthat\tclass."
   ]
  },
  {
   "cell_type": "code",
   "execution_count": null,
   "metadata": {
    "collapsed": true
   },
   "outputs": [],
   "source": [
    "db.students.aggregate(\n",
    "    [\n",
    "\n",
    "        {\n",
    "            $unwind: \"$courses\"\n",
    "        },\n",
    "        {\n",
    "            $group: {\n",
    "                _id: \"$courses.course_code\",\n",
    "\n",
    "                course_title: {\n",
    "                    \"$first\": \"$courses.course_title\"\n",
    "                },\n",
    "                numberOfDropouts: {\n",
    "                    $sum: {\n",
    "                        $cond: [{\n",
    "                            $eq: ['$courses.course_status', 'Dropped']\n",
    "                        }, 1, 0]\n",
    "                    }\n",
    "                },\n",
    "                numberOfTimesCompleted: {\n",
    "                    $sum: {\n",
    "                        $cond: [{\n",
    "                            $eq: ['$courses.course_status', 'Complete']\n",
    "                        }, 1, 0]\n",
    "                    }\n",
    "                },\n",
    "                currentlyRegistered: {\n",
    "                    $push: {\n",
    "                        $cond: [{\n",
    "                            $eq: ['$courses.course_status', 'In Progress']\n",
    "                        }, \"$_id\", null]\n",
    "                    }\n",
    "                },\n",
    "                maxGrade: {\n",
    "                    $max: '$courses.grade'\n",
    "                },\n",
    "                minGrade: {\n",
    "                    $min: '$courses.grade'\n",
    "                },\n",
    "                avgGrade: {\n",
    "                    $avg: '$courses.grade'\n",
    "                },\n",
    "\n",
    "            }\n",
    "        },\n",
    "        {\n",
    "            $addFields: {\n",
    "                \"currentlyRegistered\": {\n",
    "                    \"$setDifference\": [\"$currentlyRegistered\", [null]]\n",
    "                }\n",
    "            }\n",
    "        },\n",
    "        {\n",
    "            $out: \"classes\"\n",
    "        }\n",
    "    ]\n",
    ")"
   ]
  },
  {
   "cell_type": "markdown",
   "metadata": {},
   "source": [
    "##### Result:"
   ]
  },
  {
   "cell_type": "markdown",
   "metadata": {},
   "source": [
    "<img src=\"screenshots/q12_1.png\", width=\"400\", height=\"400\", alt=\"Query 12\">"
   ]
  },
  {
   "cell_type": "markdown",
   "metadata": {},
   "source": [
    "<img src=\"screenshots/q12_2.png\", width=\"400\", height=\"400\", alt=\"Query 12\">"
   ]
  },
  {
   "cell_type": "markdown",
   "metadata": {},
   "source": [
    "<img src=\"screenshots/q12_3.png\", width=\"400\", height=\"400\", alt=\"Query 12\">"
   ]
  },
  {
   "cell_type": "markdown",
   "metadata": {},
   "source": [
    "<img src=\"screenshots/q12_4.png\", width=\"400\", height=\"400\", alt=\"Query 12\">"
   ]
  },
  {
   "cell_type": "markdown",
   "metadata": {},
   "source": [
    "### Part Two\t(Python & MongoDB)"
   ]
  },
  {
   "cell_type": "markdown",
   "metadata": {},
   "source": [
    "In this part, you will learn how to communicate with MongoDB from Python. You go through some of the more basic functionalities in this section and you will have the opportunity to explore some of the more advanced features."
   ]
  },
  {
   "cell_type": "code",
   "execution_count": 1,
   "metadata": {
    "collapsed": false
   },
   "outputs": [
    {
     "name": "stdout",
     "output_type": "stream",
     "text": [
      "\n",
      "Inserting Christiano to the collection.\n",
      "\n",
      "Inserting Maria and Dimitris to the collection.\n",
      "\n",
      "Printing collection's content.\n",
      "\n",
      "{u'_id': ObjectId('590b24097f50960b54af4d8c'),\n",
      " u'language': u'Portuguese',\n",
      " u'name': u'Christiano'}\n",
      "{u'_id': ObjectId('590b24097f50960b54af4d8e'),\n",
      " u'age': 34,\n",
      " u'language': u'English',\n",
      " u'name': u'Maria'}\n",
      "{u'_id': ObjectId('590b24097f50960b54af4d8f'),\n",
      " u'language': u'Greek',\n",
      " u'name': u'Dimitris'}\n",
      "\n",
      "Updating Christiano's age field.\n",
      "Updating Maria's name.\n",
      "Deleting Dimitris.\n",
      "\n",
      "Printing info about age.\n",
      "\n",
      "26\n",
      "34\n",
      "\n",
      "Converting collection to dataframe.\n",
      "\n",
      "  age                       _id        name    language\n",
      "0  34  590b24097f50960b54af4d8e      Ioanna     English\n",
      "1  26  590b24097f50960b54af4d8c  Christiano  Portuguese\n",
      "\n",
      "Importing dataframe to collection.\n",
      "\n",
      "Converting collection to dataframe.\n",
      "\n",
      "    age                       _id        name    language\n",
      "0  None  590b24097f50960b54af4d98     Giannis      German\n",
      "1    23  590b24097f50960b54af4d97       Nikos      Polish\n",
      "2    19  590b24097f50960b54af4d96        Clio       Greek\n",
      "3    29  590b24097f50960b54af4d95       Eleni        None\n",
      "4    34  590b24097f50960b54af4d8e      Ioanna     English\n",
      "5    26  590b24097f50960b54af4d8c  Christiano  Portuguese\n"
     ]
    }
   ],
   "source": [
    "# pylint: disable=invalid-name\n",
    "\"\"\"\n",
    "    python_mongodb.py: Implement simple operations on\n",
    "        mongo database.\n",
    "\"\"\"\n",
    "\n",
    "import pprint\n",
    "import pymongo\n",
    "import pandas as pd\n",
    "import numpy as np\n",
    "\n",
    "__author__ = \"Stratos Gounidellis, Lamprini Koutsokera\"\n",
    "__copyright__ = \"Copyright 2017, BDSMasters\"\n",
    "\n",
    "\n",
    "def connect_to_mongo(db_name, collection_name):\n",
    "    \"\"\"Connect to mongo database and collection.\n",
    "    :param db_name: The name of the mongo database.\n",
    "    :param collection_name: The name of the mongo collection.\n",
    "    :return: A coonection to a collection and a MongoClient\n",
    "        object.\n",
    "    \"\"\"\n",
    "    try:\n",
    "        client = pymongo.MongoClient()\n",
    "        db = client[db_name]\n",
    "        collection = db[collection_name]\n",
    "    except pymongo.errors.ConnectionFailure:\n",
    "        print \"Unable to connect to mongo!\"\n",
    "        quit()\n",
    "    return collection, client\n",
    "\n",
    "\n",
    "def insert_one(db_name, collection_name, record):\n",
    "    \"\"\"Connect to mongo database and collection and insert\n",
    "        a record.\n",
    "    :param db_name: The name of the mongo database.\n",
    "    :param collection_name: The name of the mongo collection.\n",
    "    :param record: The records to be inserted to the mongo\n",
    "        collection.\n",
    "    \"\"\"\n",
    "    collection = connect_to_mongo(db_name, collection_name)\n",
    "    try:\n",
    "        collection[0].delete_many({})\n",
    "    except pymongo.errors.ServerSelectionTimeoutError:\n",
    "        print \"Unable to connect to mongo!\"\n",
    "        quit()\n",
    "    print '\\nInserting Christiano to the collection.\\n'\n",
    "    collection[0].insert_one(record)\n",
    "    collection[1].close()\n",
    "\n",
    "\n",
    "def insert_many(db_name, collection_name, records_list):\n",
    "    \"\"\"Connect to mongo database and collection and insert multiple\n",
    "        records.\n",
    "    :param db_name: The name of the mongo database.\n",
    "    :param collection_name: The name of the mongo collection.\n",
    "    :param records_list: The records to be inserted to the\n",
    "        mongo collection.\n",
    "    \"\"\"\n",
    "    print 'Inserting Maria and Dimitris to the collection.\\n'\n",
    "    collection = connect_to_mongo(db_name, collection_name)\n",
    "    collection[0].insert_many(records_list)\n",
    "    collection[1].close()\n",
    "\n",
    "\n",
    "def print_records(db_name, collection_name):\n",
    "    \"\"\"Connect to mongo database and collection and print its\n",
    "        content.\n",
    "    :param db_name: The name of the mongo database.\n",
    "    :param collection_name: The name of the mongo collection.\n",
    "    \"\"\"\n",
    "    print \"Printing collection's content.\\n\"\n",
    "    collection = connect_to_mongo(db_name, collection_name)\n",
    "    for record in collection[0].find():\n",
    "        pprint.pprint(record)\n",
    "    collection[1].close()\n",
    "\n",
    "\n",
    "def update_collection(db_name, collection_name):\n",
    "    \"\"\"Connect to mongo database and collection and update its\n",
    "        documents.\n",
    "    :param db_name: The name of the mongo database.\n",
    "    :param collection_name: The name of the mongo collection.\n",
    "    \"\"\"\n",
    "    print \"\\nUpdating Christiano's age field.\"\n",
    "    collection = connect_to_mongo(db_name, collection_name)\n",
    "    collection[0].update_one({\n",
    "        'name': \"Christiano\"\n",
    "    }, {\n",
    "        '$set': {\n",
    "            'age': 26\n",
    "        }\n",
    "    }, upsert=True)\n",
    "\n",
    "    print \"Updating Maria's name.\"\n",
    "    collection[0].update_one({\n",
    "        'name': \"Maria\"\n",
    "    }, {\n",
    "        '$set': {\n",
    "            'name': \"Ioanna\"\n",
    "        }\n",
    "    }, upsert=True)\n",
    "    print \"Deleting Dimitris.\"\n",
    "    collection[0].delete_one({\"name\": \"Dimitris\"})\n",
    "    collection[1].close()\n",
    "\n",
    "\n",
    "def print_records_field(db_name, collection_name, field):\n",
    "    \"\"\"Connect to mongo database and collection and print\n",
    "        specific field.\n",
    "    :param db_name: The name of the mongo database.\n",
    "    :param collection_name: The name of the mongo collection.\n",
    "    :param field: The name of the field to be printed.\n",
    "    \"\"\"\n",
    "    print \"\\nPrinting info about \" + str(field) + \".\\n\"\n",
    "    collection = connect_to_mongo(db_name, collection_name)\n",
    "    check_exists = False\n",
    "    for record in collection[0].find():\n",
    "        if field in record.keys():\n",
    "            pprint.pprint(record[field])\n",
    "            check_exists = True\n",
    "    if not check_exists:\n",
    "        print \"No records with field '\" + str(field) + \"' were found!\"\n",
    "    collection[1].close()\n",
    "\n",
    "\n",
    "def mongo_to_df(db_name, collection_name):\n",
    "    \"\"\"Connect to mongo database and collection and convert the collection\n",
    "        to a dataframe.\n",
    "    :param db_name: The name of the mongo database.\n",
    "    :param collection_name: The name of the mongo collection.\n",
    "    :return: A dataframe containing the content of the collection.\n",
    "    \"\"\"\n",
    "    print \"\\nConverting collection to dataframe.\\n\"\n",
    "    collection = connect_to_mongo(db_name, collection_name)\n",
    "    fields = []\n",
    "    for record in collection[0].find():\n",
    "        keys = record.keys()\n",
    "        for key in keys:\n",
    "            if key not in fields:\n",
    "                fields.append(key)\n",
    "\n",
    "    results_array = np.zeros(len(fields))\n",
    "    for record in collection[0].find():\n",
    "        temp_list = []\n",
    "        for field in fields:\n",
    "            if field in record.keys():\n",
    "                temp_list.append(record[field])\n",
    "            else:\n",
    "                temp_list.append(None)\n",
    "        temp_results = np.array(temp_list)\n",
    "        results_array = np.vstack((temp_results, results_array))\n",
    "    results_array = results_array[:-1, :]\n",
    "    df_results = pd.DataFrame(data=results_array, columns=fields)\n",
    "    collection[1].close()\n",
    "    return df_results\n",
    "\n",
    "\n",
    "def df_to_mongo(df, db_name, collection_name):\n",
    "    \"\"\"Connect to mongo database and collection and import data\n",
    "        from a dataframe.\n",
    "    :param df: The dataframe to import to the mongo collection.\n",
    "    :param db_name: The name of the mongo database.\n",
    "    :param collection_name: The name of the mongo collection.\n",
    "    \"\"\"\n",
    "    print \"\\nImporting dataframe to collection.\"\n",
    "\n",
    "    collection = connect_to_mongo(db_name, collection_name)\n",
    "    for _, row in df.iterrows():\n",
    "        row_dict = row.to_dict()\n",
    "        for key in row_dict.keys():\n",
    "            if row_dict.get(key) is None:\n",
    "                row_dict.pop(key, None)\n",
    "            else:\n",
    "                try:\n",
    "                    row_dict[key] = int(row_dict.get(key))\n",
    "                except ValueError:\n",
    "                    pass\n",
    "        collection[0].insert_one(row_dict)\n",
    "    collection[1].close()\n",
    "\n",
    "\n",
    "if __name__ == \"__main__\":\n",
    "    db_name = \"project\"\n",
    "    collection_name = \"pymongo_project\"\n",
    "    christiano = {\"language\": \"Portuguese\", \"name\": \"Christiano\"}\n",
    "    insert_one(db_name, collection_name, christiano)\n",
    "\n",
    "    maria = {\"name\": \"Maria\", \"age\": 34, \"language\": \"English\"}\n",
    "    dimitris = {\"name\": \"Dimitris\", \"language\": \"Greek\"}\n",
    "    records_list = [maria, dimitris]\n",
    "    insert_many(db_name, collection_name, records_list)\n",
    "\n",
    "    print_records(db_name, collection_name)\n",
    "\n",
    "    update_collection(db_name, collection_name)\n",
    "\n",
    "    print_records_field(db_name, collection_name, \"age\")\n",
    "\n",
    "    df_mongo = mongo_to_df(db_name, collection_name)\n",
    "    print df_mongo\n",
    "\n",
    "    records_array = np.zeros(3)\n",
    "    giannis = [\"Giannis\", None, \"German\"]\n",
    "    nikos = [\"Nikos\", 23, \"Polish\"]\n",
    "    clio = [\"Clio\", 19, \"Greek\"]\n",
    "    eleni = [\"Eleni\", 29, None]\n",
    "    records = [giannis, nikos, clio, eleni]\n",
    "\n",
    "    for record in records:\n",
    "        records_array = np.vstack((record, records_array))\n",
    "    records_array = records_array[:-1, :]\n",
    "    df_records = pd.DataFrame(data=records_array,\n",
    "                              columns=(\"name\", \"age\", \"language\"))\n",
    "    df_to_mongo(df_records, db_name, collection_name)\n",
    "\n",
    "    df_mongo = mongo_to_df(db_name, collection_name)\n",
    "    print df_mongo\n"
   ]
  },
  {
   "cell_type": "markdown",
   "metadata": {},
   "source": [
    "### Part Three (MapReduce)"
   ]
  },
  {
   "cell_type": "markdown",
   "metadata": {},
   "source": [
    "Write a map reduce job on the students collection similar to the classic word count example. More specifically, implement a word count using the course title field as the text. In addition, exclude stop words from this list. You should find/write your own list of stop words. (Stop words are the common words in the English language like “a”, “in”, “to”, “the”, etc.)"
   ]
  },
  {
   "cell_type": "markdown",
   "metadata": {},
   "source": [
    "```javascript\n",
    "/**\n",
    " * @author Stratos Gounidellis <stratos.gounidellis@gmail.com>\n",
    " * @author Lamprini Koutsokera <lkoutsokera@gmail.com>\n",
    " */\n",
    " \n",
    "var mapWordCount = function() {\n",
    "    // Declare a string with the stop words\n",
    "    var stopWords = \"a, of, and, to, in, for, the\";\n",
    "    // Iterate over the courses in each document\n",
    "    for (var idx = 0; idx < this.courses.length; idx++) {\n",
    "        var course_title = this.courses[idx].course_title;\n",
    "        // Covert to lowercase in order to avoid duplicates\n",
    "        course_title = course_title.toLowerCase().split(\" \");\n",
    "        for (var i = course_title.length - 1; i >= 0; i--) {\n",
    "            var regex = new RegExp(\"\\\\b\" + course_title[i] + \"\\\\b\", \"i\");\n",
    "            // Check whether the word is a stop word or not\n",
    "            if (stopWords.search(regex) < 0) {\n",
    "                if (course_title[i]) {\n",
    "                    emit(course_title[i], 1);\n",
    "                }\n",
    "            }\n",
    "        }\n",
    "    }\n",
    "};\n",
    "\n",
    "var reduceWordCount = function(key, values) {\n",
    "    var count = 0;\n",
    "    // Sum the occureces of a word\n",
    "    values.forEach(function(value) {\n",
    "        count += value;\n",
    "    });\n",
    "    return count;\n",
    "};\n",
    "\n",
    "db.students.mapReduce(mapWordCount,\n",
    "    reduceWordCount, {\n",
    "        // Save the results at a collection\n",
    "        out: \"count_courseTitle\"\n",
    "    }\n",
    ")\n",
    "\n",
    "db.count_courseTitle.find().sort({\"value\": -1})\n",
    "```"
   ]
  },
  {
   "cell_type": "markdown",
   "metadata": {},
   "source": [
    "##### Result:"
   ]
  },
  {
   "cell_type": "markdown",
   "metadata": {},
   "source": [
    "<img src=\"screenshots/map_reduce1_1.png\", width=\"300\", height=\"400\", alt=\"Map Reduce 1\">"
   ]
  },
  {
   "cell_type": "markdown",
   "metadata": {},
   "source": [
    "<img src=\"screenshots/map_reduce1_3.png\", width=\"300\", height=\"400\", alt=\"Map Reduce 1\">"
   ]
  },
  {
   "cell_type": "markdown",
   "metadata": {},
   "source": [
    "Write a map reduce job on the students collection whose goal is to compute average GPA scores for completed courses by home city and by course type (M, B, P, etc.)."
   ]
  },
  {
   "cell_type": "markdown",
   "metadata": {},
   "source": [
    "```javascript\n",
    "/**\n",
    " * @author Stratos Gounidellis <stratos.gounidellis@gmail.com>\n",
    " * @author Lamprini Koutsokera <lkoutsokera@gmail.com>\n",
    " */\n",
    "\n",
    "var mapAvgGrade = function() {\n",
    "    // Iterate over the courses in each document\n",
    "    for (var idx = 0; idx < this.courses.length; idx++) {\n",
    "        var course_status = this.courses[idx].course_status;\n",
    "        var course_grade = this.courses[idx].grade;\n",
    "        // Check that the course status is complete\n",
    "        if (course_status === \"Complete\") {\n",
    "            var course_title = this.courses[idx].course_code;\n",
    "            // Set as key the home city and the course type\n",
    "            var key = {\n",
    "                home_city: this.home_city,\n",
    "                course_type: course_title[0]\n",
    "            };\n",
    "            var value = {\n",
    "                count: 1,\n",
    "                sum: course_grade\n",
    "            };\n",
    "\n",
    "            emit(key, value);\n",
    "        }\n",
    "\n",
    "    }\n",
    "};\n",
    "\n",
    "var reduceAvgGrade = function(key, values) {\n",
    "    var reducedVal = {\n",
    "        count: 0,\n",
    "        sum: 0\n",
    "    };\n",
    "\n",
    "    values.forEach(function(value) {\n",
    "        reducedVal.count += value.count;\n",
    "        reducedVal.sum += value.sum;\n",
    "    });\n",
    "\n",
    "    return reducedVal;\n",
    "};\n",
    "\n",
    "var finalizeAvgGrade = function(key, reducedVal) {\n",
    "    // Calculate the average grade\n",
    "    reducedVal.avg = (reducedVal.sum / reducedVal.count).toFixed(4);\n",
    "\n",
    "    return reducedVal.avg;\n",
    "\n",
    "};\n",
    "\n",
    "db.students.mapReduce(mapAvgGrade,\n",
    "    reduceAvgGrade, {\n",
    "        // Save the results at a collection\n",
    "        out: {\n",
    "            merge: \"avgGrade_city\"\n",
    "        },\n",
    "        finalize: finalizeAvgGrade\n",
    "    }\n",
    ")\n",
    "\n",
    "db.avgGrade_city.find().sort({\"value\": -1})\n",
    "```"
   ]
  },
  {
   "cell_type": "markdown",
   "metadata": {},
   "source": [
    "##### Result:"
   ]
  },
  {
   "cell_type": "markdown",
   "metadata": {},
   "source": [
    "<img src=\"screenshots/map_reduce2_1.png\", width=\"300\", height=\"400\", alt=\"Map Reduce 2\">"
   ]
  },
  {
   "cell_type": "markdown",
   "metadata": {},
   "source": [
    "<img src=\"screenshots/map_reduce2_2.png\", width=\"450\", height=\"400\", alt=\"Map Reduce 2\">"
   ]
  }
 ],
 "metadata": {
  "kernelspec": {
   "display_name": "Python 2",
   "language": "python",
   "name": "python2"
  },
  "language_info": {
   "codemirror_mode": {
    "name": "ipython",
    "version": 2
   },
   "file_extension": ".py",
   "mimetype": "text/x-python",
   "name": "python",
   "nbconvert_exporter": "python",
   "pygments_lexer": "ipython2",
   "version": "2.7.13"
  }
 },
 "nbformat": 4,
 "nbformat_minor": 2
}
